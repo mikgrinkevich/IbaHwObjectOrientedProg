{
 "cells": [
  {
   "cell_type": "markdown",
   "id": "1b4a9f81",
   "metadata": {},
   "source": [
    "<b>First task:</b>"
   ]
  },
  {
   "cell_type": "markdown",
   "id": "7a0804a5",
   "metadata": {},
   "source": [
    "1) Попробуйте самостоятельно перегрузить оператор сложения. Для его перегрузки используется метод __add__(). Он вызывается, когда объекты класса, имеющего данный метод, фигурируют в операции сложения, причем с левой стороны. Это значит, что в выражении a + b у объекта a должен быть метод __add__(). Объект b может быть чем угодно, но чаще всего он бывает объектом того же класса. Объект b будет автоматически передаваться в метод __add__() в качестве второго аргумента (первый – self).\n",
    "\n",
    "Отметим, в Python также есть правосторонний метод перегрузки сложения - __radd__().\n",
    "\n",
    "Согласно полиморфизму ООП, возвращать метод __add__() может что угодно. Может вообще ничего не возвращать, а молча вносить изменения в какие-то уже существующие объекты. Допустим, в вашей программе метод перегрузки сложения будет возвращать новый объект того же класса.\n"
   ]
  },
  {
   "cell_type": "code",
   "execution_count": null,
   "id": "16819b05",
   "metadata": {},
   "outputs": [],
   "source": [
    "class OverridingPlusOperator:\n",
    "    def __init__(self, a):\n",
    "        self.a = a\n",
    "    def __add__(self, b):\n",
    "        return OverridingPlusOperator(self.a + b.a)\n",
    "\n",
    "a = OverridingPlusOperator(1)\n",
    "b = OverridingPlusOperator(2)\n",
    "c = a+b\n",
    "print(type(c))\n",
    "print(c.a)"
   ]
  },
  {
   "cell_type": "markdown",
   "id": "257c645d",
   "metadata": {},
   "source": [
    "<b>Second task</b>"
   ]
  },
  {
   "cell_type": "markdown",
   "id": "4b3f921d",
   "metadata": {},
   "source": [
    "Разработать класс, который наследует функциональность стандартного типа str и содержит 2 новых метода:\n",
    "\n",
    "метод is_repeatance (s), который принимает 1 аргумент s и возвращает True или False в зависимости от того, может ли текущая строка быть получена целым количеством повторов строки s. Вернуть False, если s не является строкой. Считать, что пустая строка не содержит повторов.\n",
    "метод is_palindrom (), который возвращает True или False в зависимости от того, является ли строка палиндромом. Регистрами символов пренебрегать. Пустую строку считать палиндромом.\n"
   ]
  },
  {
   "cell_type": "code",
   "execution_count": null,
   "id": "3c0b096d",
   "metadata": {},
   "outputs": [],
   "source": [
    "class StrMethod:\n",
    "\n",
    "    def __init__(self, string, s):\n",
    "        self.string = string\n",
    "        self.s = s\n",
    "\n",
    "    def is_repeatable(self):\n",
    "        if type(self.s)!=str:\n",
    "            return False\n",
    "        if len(self.string)==0:\n",
    "            return False\n",
    "        count = len(self.string) // len(self.s)\n",
    "        boolean = self.string == self.s*count\n",
    "        return boolean\n",
    "\n",
    "    def is_palindrom(self):\n",
    "        if len(self.string) == 0:\n",
    "            boolean = True\n",
    "        boolean = self.string == self.string[::-1]\n",
    "        return boolean\n",
    "\n",
    "    def __str__(self):\n",
    "        return 'Is a string palindrom: '+str(self.is_palindrom()) + '\\nIs string repeated: ' + str(self.is_repeatable())\n",
    "\n",
    "a = StrMethod('123123123123','123')\n",
    "print(a)"
   ]
  },
  {
   "cell_type": "markdown",
   "id": "56f136bc",
   "metadata": {},
   "source": [
    "<b>Second task</b>"
   ]
  },
  {
   "cell_type": "markdown",
   "id": "ec680739",
   "metadata": {},
   "source": [
    "Доработать пример из лекции.\n",
    "Условие: \n",
    "Пусть у нас будет класс \"Цилиндр\". При создании объектов от этого класса у них заводятся поля высота и диаметр, а также площадь поверхности. Вычисление площади можно поместить в отдельную статическую функцию. Она вроде и относится к цилиндрам, но с другой стороны само вычисление объекта не требует и может быть использовано где угодно.\n",
    "\n",
    "Приведенный пример плохой. Мы можем менять значения полей dia и h объекта за пределами класса простым присваиванием (например, a.dia = 10). При этом площадь никак не будет пересчитываться. Также мы можем назначить новое значение для площади, как простым присваиванием, так и вызовом функции make_area() с последующим присваиванием. Например, a.area = a.make_area(2, 3). При этом не меняются высота и диаметр.\n",
    "\n",
    "Защитите код от возможных логических ошибок следующим образом:\n",
    "\n",
    "Свойствам dia и h объекта по-прежнему можно выполнять присваивание за пределами класса. Однако при этом \"за кулисами\" происходит пересчет площади, т. е. изменение значения area.\n",
    "\n",
    "Свойству area нельзя присваивать за пределами класса. Можно только получать его значение.\n",
    "\n",
    "Подсказка: вспомните про метод __setattr__(), упомянутый в уроке про инкапсуляцию."
   ]
  },
  {
   "cell_type": "code",
   "execution_count": null,
   "id": "161ab6bc",
   "metadata": {},
   "outputs": [],
   "source": [
    "from math import pi\n",
    "\n",
    "\n",
    "class Cylinder:\n",
    "    @staticmethod\n",
    "    def __make_area(d, h):\n",
    "        circle = pi * d ** 2 / 4\n",
    "        side = pi * d * h\n",
    "        return round(circle * 2 + side, 2)\n",
    "\n",
    "    def __init__(self, di, hi):\n",
    "        self.dia = di\n",
    "        self.h = hi\n",
    "        self.area = self.__make_area(di, hi)\n",
    "\n",
    "    def __setattr__(self, key, value):\n",
    "        if key == 'area':\n",
    "            self.__dict__[key] = value\n",
    "        if key == 'dia':\n",
    "            self.__dict__[key] = value\n",
    "            dia = value\n",
    "        if key == 'h':\n",
    "            self.__dict__[key] = value\n",
    "            h = value\n",
    "\n",
    "    def get_area(self):\n",
    "        return self.__make_area(self.dia, self.h)\n",
    "\n",
    "a = Cylinder(1, 2)\n",
    "print(a.get_area())\n",
    "\n",
    "a.dia = 15\n",
    "print(a.get_area())\n",
    "\n",
    "a.h = 10\n",
    "print(a.get_area())"
   ]
  }
 ],
 "metadata": {
  "kernelspec": {
   "display_name": "Python 3 (ipykernel)",
   "language": "python",
   "name": "python3"
  },
  "language_info": {
   "codemirror_mode": {
    "name": "ipython",
    "version": 3
   },
   "file_extension": ".py",
   "mimetype": "text/x-python",
   "name": "python",
   "nbconvert_exporter": "python",
   "pygments_lexer": "ipython3",
   "version": "3.9.10"
  }
 },
 "nbformat": 4,
 "nbformat_minor": 5
}
